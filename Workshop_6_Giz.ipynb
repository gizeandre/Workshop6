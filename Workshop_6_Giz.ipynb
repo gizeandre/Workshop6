{
 "cells": [
  {
   "cell_type": "markdown",
   "id": "9ed78377-c03a-48dd-910f-93a0f79d8396",
   "metadata": {},
   "source": [
    "Hola mundo\n",
    "\n"
   ]
  },
  {
   "cell_type": "code",
   "execution_count": null,
   "id": "4bd19c16-0fe6-4eb8-b0db-81cfd6e6bc06",
   "metadata": {},
   "outputs": [],
   "source": []
  }
 ],
 "metadata": {
  "kernelspec": {
   "display_name": "Python 3 (ipykernel)",
   "language": "python",
   "name": "python3"
  },
  "language_info": {
   "codemirror_mode": {
    "name": "ipython",
    "version": 3
   },
   "file_extension": ".py",
   "mimetype": "text/x-python",
   "name": "python",
   "nbconvert_exporter": "python",
   "pygments_lexer": "ipython3",
   "version": "3.11.9"
  }
 },
 "nbformat": 4,
 "nbformat_minor": 5
}
